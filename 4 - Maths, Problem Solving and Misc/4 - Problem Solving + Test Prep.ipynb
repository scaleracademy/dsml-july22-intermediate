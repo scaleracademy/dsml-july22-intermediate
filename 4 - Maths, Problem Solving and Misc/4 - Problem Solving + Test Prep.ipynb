{
 "cells": [
  {
   "cell_type": "code",
   "execution_count": 1,
   "id": "a9fa0513",
   "metadata": {},
   "outputs": [],
   "source": [
    "# Print all the permutations of a string\n",
    "\n",
    "# abc -> abc, acb, bca, bac, cab, cba"
   ]
  },
  {
   "cell_type": "code",
   "execution_count": 2,
   "id": "3e12f8c2",
   "metadata": {},
   "outputs": [],
   "source": [
    "# Itertools -> Explore after the class"
   ]
  },
  {
   "cell_type": "code",
   "execution_count": 30,
   "id": "990768e1",
   "metadata": {},
   "outputs": [],
   "source": [
    "string = \"ABC\"\n",
    "\n",
    "n = len(string)\n",
    "data = list(string)"
   ]
  },
  {
   "cell_type": "code",
   "execution_count": 5,
   "id": "8d3fa404",
   "metadata": {},
   "outputs": [
    {
     "data": {
      "text/plain": [
       "3"
      ]
     },
     "execution_count": 5,
     "metadata": {},
     "output_type": "execute_result"
    }
   ],
   "source": [
    "n"
   ]
  },
  {
   "cell_type": "code",
   "execution_count": 31,
   "id": "eafab0a6",
   "metadata": {},
   "outputs": [
    {
     "data": {
      "text/plain": [
       "['A', 'B', 'C']"
      ]
     },
     "execution_count": 31,
     "metadata": {},
     "output_type": "execute_result"
    }
   ],
   "source": [
    "data"
   ]
  },
  {
   "cell_type": "code",
   "execution_count": 34,
   "id": "a571bbda",
   "metadata": {
    "scrolled": true
   },
   "outputs": [],
   "source": [
    "def permute_string(data, length, i = 0): # depth of recursion\n",
    "    if i == length:\n",
    "        print(\"\".join(data))\n",
    "    else:\n",
    "        for j in range(i, length):\n",
    "            data[i], data[j] = data[j], data[i]\n",
    "            permute_string(data, length, i + 1)\n",
    "            data[i], data[j] = data[j], data[i]"
   ]
  },
  {
   "cell_type": "code",
   "execution_count": 35,
   "id": "422221aa",
   "metadata": {},
   "outputs": [
    {
     "name": "stdout",
     "output_type": "stream",
     "text": [
      "ACB\n",
      "ABC\n",
      "CAB\n",
      "CBA\n",
      "BCA\n",
      "BAC\n"
     ]
    }
   ],
   "source": [
    "permute_string(data, n)"
   ]
  },
  {
   "cell_type": "code",
   "execution_count": null,
   "id": "50b39320",
   "metadata": {},
   "outputs": [],
   "source": []
  },
  {
   "cell_type": "code",
   "execution_count": 8,
   "id": "6ccbd1da",
   "metadata": {},
   "outputs": [],
   "source": [
    "def abc(a,b,c):\n",
    "    return True"
   ]
  },
  {
   "cell_type": "code",
   "execution_count": 9,
   "id": "4e92b4bf",
   "metadata": {},
   "outputs": [
    {
     "ename": "TypeError",
     "evalue": "abc() got multiple values for argument 'b'",
     "output_type": "error",
     "traceback": [
      "\u001b[0;31m---------------------------------------------------------------------------\u001b[0m",
      "\u001b[0;31mTypeError\u001b[0m                                 Traceback (most recent call last)",
      "\u001b[0;32m/var/folders/nn/c52y0d3j0gq59dpsswchkt2r0000gn/T/ipykernel_54810/1128833865.py\u001b[0m in \u001b[0;36m<module>\u001b[0;34m\u001b[0m\n\u001b[0;32m----> 1\u001b[0;31m \u001b[0mabc\u001b[0m\u001b[0;34m(\u001b[0m\u001b[0;36m4\u001b[0m\u001b[0;34m,\u001b[0m \u001b[0;36m5\u001b[0m\u001b[0;34m,\u001b[0m \u001b[0mb\u001b[0m \u001b[0;34m=\u001b[0m \u001b[0;36m6\u001b[0m\u001b[0;34m)\u001b[0m\u001b[0;34m\u001b[0m\u001b[0;34m\u001b[0m\u001b[0m\n\u001b[0m",
      "\u001b[0;31mTypeError\u001b[0m: abc() got multiple values for argument 'b'"
     ]
    }
   ],
   "source": [
    "abc(4, 5, b = 6)"
   ]
  },
  {
   "cell_type": "code",
   "execution_count": 38,
   "id": "8af8d802",
   "metadata": {},
   "outputs": [],
   "source": [
    "string = \"ABCD\""
   ]
  },
  {
   "cell_type": "code",
   "execution_count": 39,
   "id": "6ce67faa",
   "metadata": {},
   "outputs": [
    {
     "name": "stdout",
     "output_type": "stream",
     "text": [
      "ABCD\n",
      "ABDC\n",
      "ACBD\n",
      "ACDB\n",
      "ADCB\n",
      "ADBC\n",
      "BACD\n",
      "BADC\n",
      "BCAD\n",
      "BCDA\n",
      "BDCA\n",
      "BDAC\n",
      "CBAD\n",
      "CBDA\n",
      "CABD\n",
      "CADB\n",
      "CDAB\n",
      "CDBA\n",
      "DBCA\n",
      "DBAC\n",
      "DCBA\n",
      "DCAB\n",
      "DACB\n",
      "DABC\n"
     ]
    }
   ],
   "source": [
    "permute_string(list(string), len(string))"
   ]
  },
  {
   "cell_type": "code",
   "execution_count": null,
   "id": "1d0eec92",
   "metadata": {},
   "outputs": [],
   "source": []
  }
 ],
 "metadata": {
  "kernelspec": {
   "display_name": "Python 3 (ipykernel)",
   "language": "python",
   "name": "python3"
  },
  "language_info": {
   "codemirror_mode": {
    "name": "ipython",
    "version": 3
   },
   "file_extension": ".py",
   "mimetype": "text/x-python",
   "name": "python",
   "nbconvert_exporter": "python",
   "pygments_lexer": "ipython3",
   "version": "3.9.5"
  }
 },
 "nbformat": 4,
 "nbformat_minor": 5
}
