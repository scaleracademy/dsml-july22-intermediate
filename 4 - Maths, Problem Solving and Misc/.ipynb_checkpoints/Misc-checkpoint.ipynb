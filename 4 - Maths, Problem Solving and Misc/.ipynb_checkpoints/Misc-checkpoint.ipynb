{
 "cells": [
  {
   "cell_type": "code",
   "execution_count": 1,
   "id": "8e09c637",
   "metadata": {},
   "outputs": [],
   "source": [
    "str1 = \"this is a random string\""
   ]
  },
  {
   "cell_type": "code",
   "execution_count": 4,
   "id": "575df8b8",
   "metadata": {},
   "outputs": [
    {
     "ename": "ValueError",
     "evalue": "substring not found",
     "output_type": "error",
     "traceback": [
      "\u001b[0;31m---------------------------------------------------------------------------\u001b[0m",
      "\u001b[0;31mValueError\u001b[0m                                Traceback (most recent call last)",
      "\u001b[0;32m/var/folders/nn/c52y0d3j0gq59dpsswchkt2r0000gn/T/ipykernel_98555/1930333963.py\u001b[0m in \u001b[0;36m<module>\u001b[0;34m\u001b[0m\n\u001b[0;32m----> 1\u001b[0;31m \u001b[0mstr1\u001b[0m\u001b[0;34m.\u001b[0m\u001b[0mindex\u001b[0m\u001b[0;34m(\u001b[0m\u001b[0;34m\"not\"\u001b[0m\u001b[0;34m,\u001b[0m \u001b[0;36m0\u001b[0m\u001b[0;34m)\u001b[0m\u001b[0;34m\u001b[0m\u001b[0;34m\u001b[0m\u001b[0m\n\u001b[0m",
      "\u001b[0;31mValueError\u001b[0m: substring not found"
     ]
    }
   ],
   "source": [
    "str1.index(\"not\", 0)"
   ]
  },
  {
   "cell_type": "code",
   "execution_count": 9,
   "id": "e1f51a48",
   "metadata": {},
   "outputs": [],
   "source": [
    "str1 = \"hihirandomhi_text_something_randomhihi\""
   ]
  },
  {
   "cell_type": "code",
   "execution_count": 10,
   "id": "7c9a5696",
   "metadata": {},
   "outputs": [],
   "source": [
    "list1 = str1.split(\"hi\")"
   ]
  },
  {
   "cell_type": "code",
   "execution_count": 11,
   "id": "61869c19",
   "metadata": {},
   "outputs": [
    {
     "data": {
      "text/plain": [
       "38"
      ]
     },
     "execution_count": 11,
     "metadata": {},
     "output_type": "execute_result"
    }
   ],
   "source": [
    "len(str1)"
   ]
  },
  {
   "cell_type": "code",
   "execution_count": 12,
   "id": "4f34b52a",
   "metadata": {},
   "outputs": [
    {
     "data": {
      "text/plain": [
       "['', '', 'random', '_text_somet', 'ng_random', '', '']"
      ]
     },
     "execution_count": 12,
     "metadata": {},
     "output_type": "execute_result"
    }
   ],
   "source": [
    "list1"
   ]
  },
  {
   "cell_type": "code",
   "execution_count": 14,
   "id": "5e2dea9a",
   "metadata": {},
   "outputs": [],
   "source": [
    "final_text = \"\".join(list1)"
   ]
  },
  {
   "cell_type": "code",
   "execution_count": 15,
   "id": "af247365",
   "metadata": {},
   "outputs": [
    {
     "data": {
      "text/plain": [
       "26"
      ]
     },
     "execution_count": 15,
     "metadata": {},
     "output_type": "execute_result"
    }
   ],
   "source": [
    "len(final_text)"
   ]
  },
  {
   "cell_type": "code",
   "execution_count": 5,
   "id": "a28018f3",
   "metadata": {},
   "outputs": [
    {
     "name": "stdout",
     "output_type": "stream",
     "text": [
      "Created - 1\n",
      "Destroyed = 1\n",
      "Created - 2\n",
      "Destroyed = 2\n",
      "<__main__.Random object at 0x7faa28233580> <__main__.Random object at 0x7faa28233a00>\n"
     ]
    }
   ],
   "source": [
    "class Student:\n",
    "    "
   ]
  },
  {
   "cell_type": "code",
   "execution_count": null,
   "id": "fca2e7cd",
   "metadata": {},
   "outputs": [],
   "source": [
    "class Random:\n",
    "    def __init__(self, a = \"Is it possible?\"):\n",
    "        self.a = a\n",
    " \n",
    "    def display(self):\n",
    "        print(self.a)\n",
    "        \n",
    "r = Random()\n",
    "r.display()"
   ]
  }
 ],
 "metadata": {
  "kernelspec": {
   "display_name": "Python 3 (ipykernel)",
   "language": "python",
   "name": "python3"
  },
  "language_info": {
   "codemirror_mode": {
    "name": "ipython",
    "version": 3
   },
   "file_extension": ".py",
   "mimetype": "text/x-python",
   "name": "python",
   "nbconvert_exporter": "python",
   "pygments_lexer": "ipython3",
   "version": "3.9.5"
  }
 },
 "nbformat": 4,
 "nbformat_minor": 5
}
