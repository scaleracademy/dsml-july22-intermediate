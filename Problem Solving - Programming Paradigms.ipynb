{
 "cells": [
  {
   "cell_type": "code",
   "execution_count": 31,
   "id": "17376f96",
   "metadata": {},
   "outputs": [],
   "source": [
    "# Question 1\n",
    "lst = [10, 20, 4, 45, 99]\n",
    "maximum1 = max(lst)\n",
    "maximum2 = max(lst, key = lambda x: -10000000 if (x == maximum1) else x)"
   ]
  },
  {
   "cell_type": "code",
   "execution_count": 32,
   "id": "7e4751f6",
   "metadata": {},
   "outputs": [
    {
     "data": {
      "text/plain": [
       "99"
      ]
     },
     "execution_count": 32,
     "metadata": {},
     "output_type": "execute_result"
    }
   ],
   "source": [
    "max(lst)"
   ]
  },
  {
   "cell_type": "code",
   "execution_count": 33,
   "id": "133a56aa",
   "metadata": {},
   "outputs": [
    {
     "data": {
      "text/plain": [
       "45"
      ]
     },
     "execution_count": 33,
     "metadata": {},
     "output_type": "execute_result"
    }
   ],
   "source": [
    "maximum2"
   ]
  },
  {
   "cell_type": "code",
   "execution_count": 28,
   "id": "ecac1c51",
   "metadata": {},
   "outputs": [],
   "source": [
    "a = [[\"a\", 6], [\"b\", 1], [\"c\", 4], [\"d\", 9], [10, 5]]"
   ]
  },
  {
   "cell_type": "code",
   "execution_count": 29,
   "id": "1a40d266",
   "metadata": {},
   "outputs": [
    {
     "data": {
      "text/plain": [
       "['d', 9]"
      ]
     },
     "execution_count": 29,
     "metadata": {},
     "output_type": "execute_result"
    }
   ],
   "source": [
    "max(a, key = lambda x: x[1])"
   ]
  },
  {
   "cell_type": "code",
   "execution_count": 30,
   "id": "57db3b8e",
   "metadata": {},
   "outputs": [],
   "source": [
    "[4,7,8,9,1,2] -> [4,7,8,0,1,2]"
   ]
  },
  {
   "cell_type": "code",
   "execution_count": null,
   "id": "bc473445",
   "metadata": {},
   "outputs": [],
   "source": [
    "[2,4]"
   ]
  },
  {
   "cell_type": "code",
   "execution_count": 41,
   "id": "d719150e",
   "metadata": {},
   "outputs": [
    {
     "name": "stdout",
     "output_type": "stream",
     "text": [
      "[['abc'], ['cde'], ['def']]\n"
     ]
    }
   ],
   "source": [
    "# Question 2\n",
    "sentence = \"abc cde def\"\n",
    "result = list(map(lambda x: [x], sentence.split(\" \")))\n",
    "print(result)"
   ]
  },
  {
   "cell_type": "code",
   "execution_count": 34,
   "id": "e066dbe9",
   "metadata": {},
   "outputs": [],
   "source": [
    "new_sentence = sentence.split(\" \")"
   ]
  },
  {
   "cell_type": "code",
   "execution_count": 35,
   "id": "ee35695d",
   "metadata": {},
   "outputs": [
    {
     "data": {
      "text/plain": [
       "['abc', 'cde', 'def']"
      ]
     },
     "execution_count": 35,
     "metadata": {},
     "output_type": "execute_result"
    }
   ],
   "source": [
    "new_sentence"
   ]
  },
  {
   "cell_type": "code",
   "execution_count": 37,
   "id": "b5925ec1",
   "metadata": {},
   "outputs": [],
   "source": [
    "r = list(\"random\")"
   ]
  },
  {
   "cell_type": "code",
   "execution_count": 38,
   "id": "043697fc",
   "metadata": {},
   "outputs": [
    {
     "data": {
      "text/plain": [
       "['r', 'a', 'n', 'd', 'o', 'm']"
      ]
     },
     "execution_count": 38,
     "metadata": {},
     "output_type": "execute_result"
    }
   ],
   "source": [
    "r"
   ]
  },
  {
   "cell_type": "code",
   "execution_count": null,
   "id": "47097926",
   "metadata": {},
   "outputs": [],
   "source": []
  }
 ],
 "metadata": {
  "kernelspec": {
   "display_name": "Python 3 (ipykernel)",
   "language": "python",
   "name": "python3"
  },
  "language_info": {
   "codemirror_mode": {
    "name": "ipython",
    "version": 3
   },
   "file_extension": ".py",
   "mimetype": "text/x-python",
   "name": "python",
   "nbconvert_exporter": "python",
   "pygments_lexer": "ipython3",
   "version": "3.9.5"
  }
 },
 "nbformat": 4,
 "nbformat_minor": 5
}
