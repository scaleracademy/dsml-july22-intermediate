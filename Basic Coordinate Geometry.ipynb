{
 "cells": [
  {
   "cell_type": "markdown",
   "id": "8106cc18",
   "metadata": {},
   "source": [
    "# Quiz"
   ]
  },
  {
   "cell_type": "code",
   "execution_count": 2,
   "id": "6911c5c5",
   "metadata": {},
   "outputs": [],
   "source": [
    "def f(func):\n",
    "    def wrapper():\n",
    "        print(\"-\"*20)\n",
    "        func()\n",
    "        print(\"-\"*20)\n",
    "    \n",
    "    return wrapper\n",
    "\n",
    "#CodeA\n",
    "@f\n",
    "def f1():\n",
    "    print(\"Hello\")\n",
    "\n",
    "#CodeB\n",
    "def f1():\n",
    "    print(\"Hello\")\n",
    "\n",
    "f1 = f(f1)"
   ]
  },
  {
   "cell_type": "code",
   "execution_count": 4,
   "id": "170dc1fb",
   "metadata": {},
   "outputs": [
    {
     "name": "stdout",
     "output_type": "stream",
     "text": [
      "little\n"
     ]
    }
   ],
   "source": [
    "from functools import reduce\n",
    "\n",
    "words = [\"mary\", \"had\", \"a\", \"little\", \"lamb\"]\n",
    "biggestWord = reduce(lambda x, y: x if len(x) > len(y) else y, words)\n",
    "print(biggestWord)\n",
    "\n",
    "#reduce(lambda x, y: x if len(x) > len(y), words)"
   ]
  },
  {
   "cell_type": "markdown",
   "id": "d2563866",
   "metadata": {},
   "source": [
    "# Basic Coordinate Geometry"
   ]
  },
  {
   "cell_type": "code",
   "execution_count": 6,
   "id": "29726b3d",
   "metadata": {},
   "outputs": [],
   "source": [
    "# 1. Take 4 points input from a user. [(2,5), (6,7), ...] A->B->C->D\n",
    "# 2. Check whether these points form a rectangle or not\n",
    "# 3. If they form a rectangle, print the area"
   ]
  },
  {
   "cell_type": "code",
   "execution_count": 9,
   "id": "807b59c1",
   "metadata": {},
   "outputs": [],
   "source": [
    "vertices = [(4,5), (7,8), (0,6), (15,14)]\n",
    "# - Diagonals would be equal\n",
    "# - Diagonal = sqrt(side1**2 + side2**2)"
   ]
  },
  {
   "cell_type": "code",
   "execution_count": 10,
   "id": "6091458d",
   "metadata": {},
   "outputs": [],
   "source": [
    "# HOMEWORK\n",
    "# - Create a function which takes a list of points as input\n",
    "# - On the basis of whether you give 3 points or 4 points it either instantiates a Triangle class or a Rectangle class\n",
    "# Three input vertices -> check if it's a triangle or not -> print perimeter if triangle"
   ]
  },
  {
   "cell_type": "code",
   "execution_count": 11,
   "id": "6cf65cc2",
   "metadata": {},
   "outputs": [],
   "source": [
    "import math"
   ]
  },
  {
   "cell_type": "code",
   "execution_count": 13,
   "id": "bab5fa10",
   "metadata": {},
   "outputs": [
    {
     "data": {
      "text/plain": [
       "-3.380515006246585"
      ]
     },
     "execution_count": 13,
     "metadata": {},
     "output_type": "execute_result"
    }
   ],
   "source": [
    "math.tan(5)"
   ]
  },
  {
   "cell_type": "code",
   "execution_count": 14,
   "id": "871dff13",
   "metadata": {},
   "outputs": [],
   "source": [
    "# HOMEWORK\n",
    "# - Equation of a line\n",
    "# - Way to represent a point\n",
    "# - Distance calculation\n",
    "# - Angle calculation\n",
    "\n",
    "# Given a line and a point, calculate the shortest distance from that point, to that line."
   ]
  },
  {
   "cell_type": "code",
   "execution_count": null,
   "id": "4e071311",
   "metadata": {},
   "outputs": [],
   "source": []
  }
 ],
 "metadata": {
  "kernelspec": {
   "display_name": "Python 3 (ipykernel)",
   "language": "python",
   "name": "python3"
  },
  "language_info": {
   "codemirror_mode": {
    "name": "ipython",
    "version": 3
   },
   "file_extension": ".py",
   "mimetype": "text/x-python",
   "name": "python",
   "nbconvert_exporter": "python",
   "pygments_lexer": "ipython3",
   "version": "3.9.5"
  }
 },
 "nbformat": 4,
 "nbformat_minor": 5
}
