{
 "cells": [
  {
   "cell_type": "code",
   "execution_count": 1,
   "id": "a97ad34a",
   "metadata": {},
   "outputs": [],
   "source": [
    "# Built In Modules"
   ]
  },
  {
   "cell_type": "code",
   "execution_count": 2,
   "id": "cecd62cc",
   "metadata": {},
   "outputs": [],
   "source": [
    "import math"
   ]
  },
  {
   "cell_type": "code",
   "execution_count": 4,
   "id": "f6b7c447",
   "metadata": {},
   "outputs": [],
   "source": [
    "# help(math)"
   ]
  },
  {
   "cell_type": "code",
   "execution_count": 5,
   "id": "c127a0d1",
   "metadata": {},
   "outputs": [
    {
     "data": {
      "text/plain": [
       "True"
      ]
     },
     "execution_count": 5,
     "metadata": {},
     "output_type": "execute_result"
    }
   ],
   "source": [
    "isinstance(math, object)"
   ]
  },
  {
   "cell_type": "code",
   "execution_count": 6,
   "id": "abe1f317",
   "metadata": {},
   "outputs": [
    {
     "data": {
      "text/plain": [
       "3.1622776601683795"
      ]
     },
     "execution_count": 6,
     "metadata": {},
     "output_type": "execute_result"
    }
   ],
   "source": [
    "math.sqrt(10)"
   ]
  },
  {
   "cell_type": "code",
   "execution_count": 7,
   "id": "71d873ae",
   "metadata": {},
   "outputs": [
    {
     "data": {
      "text/plain": [
       "4"
      ]
     },
     "execution_count": 7,
     "metadata": {},
     "output_type": "execute_result"
    }
   ],
   "source": [
    "math.floor(4.5)"
   ]
  },
  {
   "cell_type": "code",
   "execution_count": 8,
   "id": "3aba2687",
   "metadata": {},
   "outputs": [
    {
     "data": {
      "text/plain": [
       "5"
      ]
     },
     "execution_count": 8,
     "metadata": {},
     "output_type": "execute_result"
    }
   ],
   "source": [
    "math.ceil(4.2)"
   ]
  },
  {
   "cell_type": "code",
   "execution_count": 9,
   "id": "8f71cfc8",
   "metadata": {},
   "outputs": [],
   "source": [
    "import random"
   ]
  },
  {
   "cell_type": "code",
   "execution_count": 16,
   "id": "9c7514a9",
   "metadata": {},
   "outputs": [
    {
     "data": {
      "text/plain": [
       "86"
      ]
     },
     "execution_count": 16,
     "metadata": {},
     "output_type": "execute_result"
    }
   ],
   "source": [
    "random.randint(0,100)"
   ]
  },
  {
   "cell_type": "code",
   "execution_count": 17,
   "id": "d958bff5",
   "metadata": {},
   "outputs": [],
   "source": [
    "# Various ways to import"
   ]
  },
  {
   "cell_type": "code",
   "execution_count": 18,
   "id": "bd1d3ce0",
   "metadata": {},
   "outputs": [],
   "source": [
    "# import math\n",
    "from math import *"
   ]
  },
  {
   "cell_type": "code",
   "execution_count": 19,
   "id": "df1ef09d",
   "metadata": {},
   "outputs": [
    {
     "data": {
      "text/plain": [
       "3.1622776601683795"
      ]
     },
     "execution_count": 19,
     "metadata": {},
     "output_type": "execute_result"
    }
   ],
   "source": [
    "sqrt(10)"
   ]
  },
  {
   "cell_type": "code",
   "execution_count": 20,
   "id": "f7b69c11",
   "metadata": {},
   "outputs": [
    {
     "data": {
      "text/plain": [
       "90"
      ]
     },
     "execution_count": 20,
     "metadata": {},
     "output_type": "execute_result"
    }
   ],
   "source": [
    "floor(90.5)"
   ]
  },
  {
   "cell_type": "code",
   "execution_count": 22,
   "id": "968e032b",
   "metadata": {},
   "outputs": [],
   "source": [
    "import math as m # most popularly used method"
   ]
  },
  {
   "cell_type": "code",
   "execution_count": 25,
   "id": "dc6d5a34",
   "metadata": {},
   "outputs": [],
   "source": [
    "# help(m) -> m is known as an alias for the math module"
   ]
  },
  {
   "cell_type": "code",
   "execution_count": 26,
   "id": "c689a987",
   "metadata": {},
   "outputs": [
    {
     "data": {
      "text/plain": [
       "3.1622776601683795"
      ]
     },
     "execution_count": 26,
     "metadata": {},
     "output_type": "execute_result"
    }
   ],
   "source": [
    "m.sqrt(10)"
   ]
  },
  {
   "cell_type": "code",
   "execution_count": 27,
   "id": "e175396b",
   "metadata": {},
   "outputs": [
    {
     "data": {
      "text/plain": [
       "10"
      ]
     },
     "execution_count": 27,
     "metadata": {},
     "output_type": "execute_result"
    }
   ],
   "source": [
    "m.floor(10)"
   ]
  },
  {
   "cell_type": "code",
   "execution_count": 28,
   "id": "41e81320",
   "metadata": {},
   "outputs": [],
   "source": [
    "# import numpy as np\n",
    "# import pandas as pd"
   ]
  },
  {
   "cell_type": "code",
   "execution_count": 29,
   "id": "fc1b5522",
   "metadata": {},
   "outputs": [],
   "source": [
    "from math import sqrt, floor"
   ]
  },
  {
   "cell_type": "code",
   "execution_count": 30,
   "id": "038e91a3",
   "metadata": {},
   "outputs": [
    {
     "data": {
      "text/plain": [
       "3.1622776601683795"
      ]
     },
     "execution_count": 30,
     "metadata": {},
     "output_type": "execute_result"
    }
   ],
   "source": [
    "sqrt(10)"
   ]
  },
  {
   "cell_type": "code",
   "execution_count": 31,
   "id": "d1c7142a",
   "metadata": {},
   "outputs": [
    {
     "data": {
      "text/plain": [
       "67"
      ]
     },
     "execution_count": 31,
     "metadata": {},
     "output_type": "execute_result"
    }
   ],
   "source": [
    "floor(67.67)"
   ]
  },
  {
   "cell_type": "code",
   "execution_count": 32,
   "id": "9e16806f",
   "metadata": {},
   "outputs": [],
   "source": [
    "# from functools import reduce"
   ]
  },
  {
   "cell_type": "code",
   "execution_count": 33,
   "id": "14df94de",
   "metadata": {},
   "outputs": [],
   "source": [
    "# HOMEWORK\n",
    "# Create a custom math module with 4 functions - \n",
    "# add, sub, divide and multiply"
   ]
  },
  {
   "cell_type": "code",
   "execution_count": null,
   "id": "0c6a1230",
   "metadata": {},
   "outputs": [],
   "source": []
  }
 ],
 "metadata": {
  "kernelspec": {
   "display_name": "Python 3 (ipykernel)",
   "language": "python",
   "name": "python3"
  },
  "language_info": {
   "codemirror_mode": {
    "name": "ipython",
    "version": 3
   },
   "file_extension": ".py",
   "mimetype": "text/x-python",
   "name": "python",
   "nbconvert_exporter": "python",
   "pygments_lexer": "ipython3",
   "version": "3.9.5"
  }
 },
 "nbformat": 4,
 "nbformat_minor": 5
}
