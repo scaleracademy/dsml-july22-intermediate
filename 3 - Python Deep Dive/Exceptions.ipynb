{
 "cells": [
  {
   "cell_type": "code",
   "execution_count": 1,
   "id": "f95dfb78",
   "metadata": {},
   "outputs": [
    {
     "ename": "ZeroDivisionError",
     "evalue": "division by zero",
     "output_type": "error",
     "traceback": [
      "\u001b[0;31m---------------------------------------------------------------------------\u001b[0m",
      "\u001b[0;31mZeroDivisionError\u001b[0m                         Traceback (most recent call last)",
      "\u001b[0;32m/var/folders/nn/c52y0d3j0gq59dpsswchkt2r0000gn/T/ipykernel_16918/4047727575.py\u001b[0m in \u001b[0;36m<module>\u001b[0;34m\u001b[0m\n\u001b[0;32m----> 1\u001b[0;31m \u001b[0;36m1\u001b[0m \u001b[0;34m/\u001b[0m \u001b[0;36m0\u001b[0m\u001b[0;34m\u001b[0m\u001b[0;34m\u001b[0m\u001b[0m\n\u001b[0m",
      "\u001b[0;31mZeroDivisionError\u001b[0m: division by zero"
     ]
    }
   ],
   "source": [
    "1 / 0 "
   ]
  },
  {
   "cell_type": "code",
   "execution_count": 2,
   "id": "e9f551d4",
   "metadata": {},
   "outputs": [
    {
     "ename": "NameError",
     "evalue": "name 'a_not_defined' is not defined",
     "output_type": "error",
     "traceback": [
      "\u001b[0;31m---------------------------------------------------------------------------\u001b[0m",
      "\u001b[0;31mNameError\u001b[0m                                 Traceback (most recent call last)",
      "\u001b[0;32m/var/folders/nn/c52y0d3j0gq59dpsswchkt2r0000gn/T/ipykernel_16918/3526327673.py\u001b[0m in \u001b[0;36m<module>\u001b[0;34m\u001b[0m\n\u001b[0;32m----> 1\u001b[0;31m \u001b[0mprint\u001b[0m\u001b[0;34m(\u001b[0m\u001b[0ma_not_defined\u001b[0m\u001b[0;34m)\u001b[0m\u001b[0;34m\u001b[0m\u001b[0;34m\u001b[0m\u001b[0m\n\u001b[0m",
      "\u001b[0;31mNameError\u001b[0m: name 'a_not_defined' is not defined"
     ]
    }
   ],
   "source": [
    "print(a_not_defined)"
   ]
  },
  {
   "cell_type": "code",
   "execution_count": 3,
   "id": "2bf7254e",
   "metadata": {},
   "outputs": [
    {
     "ename": "IndentationError",
     "evalue": "expected an indented block (3614531987.py, line 1)",
     "output_type": "error",
     "traceback": [
      "\u001b[0;36m  File \u001b[0;32m\"/var/folders/nn/c52y0d3j0gq59dpsswchkt2r0000gn/T/ipykernel_16918/3614531987.py\"\u001b[0;36m, line \u001b[0;32m1\u001b[0m\n\u001b[0;31m    if 573:\u001b[0m\n\u001b[0m           ^\u001b[0m\n\u001b[0;31mIndentationError\u001b[0m\u001b[0;31m:\u001b[0m expected an indented block\n"
     ]
    }
   ],
   "source": [
    "if 573:"
   ]
  },
  {
   "cell_type": "code",
   "execution_count": 4,
   "id": "635a931d",
   "metadata": {},
   "outputs": [
    {
     "ename": "ModuleNotFoundError",
     "evalue": "No module named 'module_random_which_does_not_exist'",
     "output_type": "error",
     "traceback": [
      "\u001b[0;31m---------------------------------------------------------------------------\u001b[0m",
      "\u001b[0;31mModuleNotFoundError\u001b[0m                       Traceback (most recent call last)",
      "\u001b[0;32m/var/folders/nn/c52y0d3j0gq59dpsswchkt2r0000gn/T/ipykernel_16918/766912272.py\u001b[0m in \u001b[0;36m<module>\u001b[0;34m\u001b[0m\n\u001b[0;32m----> 1\u001b[0;31m \u001b[0;32mimport\u001b[0m \u001b[0mmodule_random_which_does_not_exist\u001b[0m\u001b[0;34m\u001b[0m\u001b[0;34m\u001b[0m\u001b[0m\n\u001b[0m",
      "\u001b[0;31mModuleNotFoundError\u001b[0m: No module named 'module_random_which_does_not_exist'"
     ]
    }
   ],
   "source": [
    "import module_random_which_does_not_exist"
   ]
  },
  {
   "cell_type": "code",
   "execution_count": 5,
   "id": "9716b747",
   "metadata": {},
   "outputs": [
    {
     "ename": "AttributeError",
     "evalue": "'str' object has no attribute 'sort'",
     "output_type": "error",
     "traceback": [
      "\u001b[0;31m---------------------------------------------------------------------------\u001b[0m",
      "\u001b[0;31mAttributeError\u001b[0m                            Traceback (most recent call last)",
      "\u001b[0;32m/var/folders/nn/c52y0d3j0gq59dpsswchkt2r0000gn/T/ipykernel_16918/770053086.py\u001b[0m in \u001b[0;36m<module>\u001b[0;34m\u001b[0m\n\u001b[0;32m----> 1\u001b[0;31m \u001b[0;34m\"random i am\"\u001b[0m\u001b[0;34m.\u001b[0m\u001b[0msort\u001b[0m\u001b[0;34m(\u001b[0m\u001b[0;34m)\u001b[0m\u001b[0;34m\u001b[0m\u001b[0;34m\u001b[0m\u001b[0m\n\u001b[0m",
      "\u001b[0;31mAttributeError\u001b[0m: 'str' object has no attribute 'sort'"
     ]
    }
   ],
   "source": [
    "\"random i am\".sort()"
   ]
  },
  {
   "cell_type": "code",
   "execution_count": 6,
   "id": "07b93538",
   "metadata": {},
   "outputs": [
    {
     "ename": "ZeroDivisionError",
     "evalue": "division by zero",
     "output_type": "error",
     "traceback": [
      "\u001b[0;31m---------------------------------------------------------------------------\u001b[0m",
      "\u001b[0;31mZeroDivisionError\u001b[0m                         Traceback (most recent call last)",
      "\u001b[0;32m/var/folders/nn/c52y0d3j0gq59dpsswchkt2r0000gn/T/ipykernel_16918/3045158858.py\u001b[0m in \u001b[0;36m<module>\u001b[0;34m\u001b[0m\n\u001b[1;32m      3\u001b[0m     \u001b[0mprint\u001b[0m\u001b[0;34m(\u001b[0m\u001b[0;34m\"A\"\u001b[0m\u001b[0;34m)\u001b[0m\u001b[0;34m\u001b[0m\u001b[0;34m\u001b[0m\u001b[0m\n\u001b[1;32m      4\u001b[0m \u001b[0;34m\u001b[0m\u001b[0m\n\u001b[0;32m----> 5\u001b[0;31m \u001b[0msomething\u001b[0m\u001b[0;34m(\u001b[0m\u001b[0;34m)\u001b[0m\u001b[0;34m\u001b[0m\u001b[0;34m\u001b[0m\u001b[0m\n\u001b[0m\u001b[1;32m      6\u001b[0m \u001b[0mprint\u001b[0m\u001b[0;34m(\u001b[0m\u001b[0;34m\"B\"\u001b[0m\u001b[0;34m)\u001b[0m\u001b[0;34m\u001b[0m\u001b[0;34m\u001b[0m\u001b[0m\n",
      "\u001b[0;32m/var/folders/nn/c52y0d3j0gq59dpsswchkt2r0000gn/T/ipykernel_16918/3045158858.py\u001b[0m in \u001b[0;36msomething\u001b[0;34m()\u001b[0m\n\u001b[1;32m      1\u001b[0m \u001b[0;32mdef\u001b[0m \u001b[0msomething\u001b[0m\u001b[0;34m(\u001b[0m\u001b[0;34m)\u001b[0m\u001b[0;34m:\u001b[0m\u001b[0;34m\u001b[0m\u001b[0;34m\u001b[0m\u001b[0m\n\u001b[0;32m----> 2\u001b[0;31m     \u001b[0;36m1\u001b[0m \u001b[0;34m/\u001b[0m \u001b[0;36m0\u001b[0m\u001b[0;34m\u001b[0m\u001b[0;34m\u001b[0m\u001b[0m\n\u001b[0m\u001b[1;32m      3\u001b[0m     \u001b[0mprint\u001b[0m\u001b[0;34m(\u001b[0m\u001b[0;34m\"A\"\u001b[0m\u001b[0;34m)\u001b[0m\u001b[0;34m\u001b[0m\u001b[0;34m\u001b[0m\u001b[0m\n\u001b[1;32m      4\u001b[0m \u001b[0;34m\u001b[0m\u001b[0m\n\u001b[1;32m      5\u001b[0m \u001b[0msomething\u001b[0m\u001b[0;34m(\u001b[0m\u001b[0;34m)\u001b[0m\u001b[0;34m\u001b[0m\u001b[0;34m\u001b[0m\u001b[0m\n",
      "\u001b[0;31mZeroDivisionError\u001b[0m: division by zero"
     ]
    }
   ],
   "source": [
    "def something():\n",
    "    1 / 0\n",
    "    print(\"A\")\n",
    "    \n",
    "something()\n",
    "print(\"B\")"
   ]
  },
  {
   "cell_type": "code",
   "execution_count": 8,
   "id": "380f8f51",
   "metadata": {},
   "outputs": [],
   "source": [
    "# dir(__builtins__)"
   ]
  },
  {
   "cell_type": "code",
   "execution_count": 9,
   "id": "b3a4bb65",
   "metadata": {},
   "outputs": [],
   "source": [
    "# try - except"
   ]
  },
  {
   "cell_type": "code",
   "execution_count": 11,
   "id": "a80eaf6d",
   "metadata": {},
   "outputs": [],
   "source": [
    "def i_divide_by_zero(a):\n",
    "    return a / 0"
   ]
  },
  {
   "cell_type": "code",
   "execution_count": 13,
   "id": "bba8d4c0",
   "metadata": {},
   "outputs": [],
   "source": [
    "try:\n",
    "    # i_divide_by_zero(5)\n",
    "    5 + 4\n",
    "    # any amount of code\n",
    "except:\n",
    "    print(\"WHY ARE YOU DIVIDING BY ZERO?\")\n",
    "    \n",
    "# we move forward"
   ]
  },
  {
   "cell_type": "code",
   "execution_count": 14,
   "id": "0584dce4",
   "metadata": {},
   "outputs": [
    {
     "name": "stdout",
     "output_type": "stream",
     "text": [
      "Current element - 2\n",
      "Result - 2.5\n",
      "-------------------------\n",
      "Current element - 0\n",
      "Excpetion - division by zero\n",
      "-------------------------\n",
      "Current element - hello\n",
      "Excpetion - invalid literal for int() with base 10: 'hello'\n",
      "-------------------------\n",
      "Current element - None\n",
      "Excpetion - int() argument must be a string, a bytes-like object or a number, not 'NoneType'\n",
      "-------------------------\n",
      "Execution Successful!\n"
     ]
    }
   ],
   "source": [
    "l1 = [2, 0, \"hello\", None]\n",
    "\n",
    "for e in l1:\n",
    "    try:\n",
    "        print(f\"Current element - {e}\")\n",
    "        result = 5 / int(e)\n",
    "        print(f\"Result - {result}\")\n",
    "    except Exception as ex:\n",
    "        print(f\"Excpetion - {ex}\")\n",
    "    \n",
    "    print(\"-\"*25)\n",
    "    \n",
    "print(\"Execution Successful!\")"
   ]
  },
  {
   "cell_type": "code",
   "execution_count": 15,
   "id": "22525a13",
   "metadata": {},
   "outputs": [
    {
     "name": "stdout",
     "output_type": "stream",
     "text": [
      "Current element - 2\n",
      "Result - 2.5\n",
      "-------------------------\n",
      "Current element - 0\n",
      "You divided by zero. Number is 0!\n",
      "-------------------------\n",
      "Current element - hello\n",
      "Excpetion - invalid literal for int() with base 10: 'hello'\n",
      "-------------------------\n",
      "Current element - None\n",
      "Excpetion - int() argument must be a string, a bytes-like object or a number, not 'NoneType'\n",
      "-------------------------\n",
      "Execution Successful!\n"
     ]
    }
   ],
   "source": [
    "l1 = [2, 0, \"hello\", None]\n",
    "\n",
    "for e in l1:\n",
    "    try:\n",
    "        print(f\"Current element - {e}\")\n",
    "        result = 5 / int(e)\n",
    "        print(f\"Result - {result}\")\n",
    "    except ZeroDivisionError as z:\n",
    "        print(f\"You divided by zero. Number is {e}!\")\n",
    "    except Exception as ex:\n",
    "        print(f\"Excpetion - {ex}\")\n",
    "    \n",
    "    print(\"-\"*25)\n",
    "    \n",
    "print(\"Execution Successful!\")"
   ]
  },
  {
   "cell_type": "code",
   "execution_count": 16,
   "id": "d18a1a58",
   "metadata": {},
   "outputs": [
    {
     "name": "stdout",
     "output_type": "stream",
     "text": [
      "N\n",
      "E\n",
      "E\n",
      "E\n"
     ]
    }
   ],
   "source": [
    "l1 = [2, 0, \"hello\", None]\n",
    "\n",
    "for e in l1:\n",
    "    try:\n",
    "        result = 5 / int(e)\n",
    "        print(\"N\")\n",
    "    except Exception as ex:\n",
    "        print(\"E\")\n",
    "    except ZeroDivisionError as z:\n",
    "        print(\"Z\")"
   ]
  },
  {
   "cell_type": "code",
   "execution_count": 18,
   "id": "27ba015a",
   "metadata": {},
   "outputs": [
    {
     "name": "stdout",
     "output_type": "stream",
     "text": [
      "I am trying!\n",
      "Except\n",
      "FINALLLYYY!!\n"
     ]
    }
   ],
   "source": [
    "try:\n",
    "    print(\"I am trying!\")\n",
    "    1/0\n",
    "except:\n",
    "    print(\"Except\")\n",
    "finally:\n",
    "    print(\"FINALLLYYY!!\")"
   ]
  },
  {
   "cell_type": "code",
   "execution_count": 20,
   "id": "cc0dc840",
   "metadata": {},
   "outputs": [
    {
     "name": "stdout",
     "output_type": "stream",
     "text": [
      "I am trying!\n",
      "Except\n",
      "FINALLYYY!\n"
     ]
    }
   ],
   "source": [
    "try:\n",
    "    print(\"I am trying!\")\n",
    "    1/0\n",
    "except:\n",
    "    print(\"Except\")\n",
    "\n",
    "print(\"FINALLYYY!\")"
   ]
  },
  {
   "cell_type": "code",
   "execution_count": 21,
   "id": "f9881f6f",
   "metadata": {},
   "outputs": [],
   "source": [
    "# HOMEWORK\n",
    "# FIND OUT WHY?"
   ]
  },
  {
   "cell_type": "code",
   "execution_count": 24,
   "id": "28d582a8",
   "metadata": {},
   "outputs": [
    {
     "ename": "Exception",
     "evalue": "This password is incorrect!",
     "output_type": "error",
     "traceback": [
      "\u001b[0;31m---------------------------------------------------------------------------\u001b[0m",
      "\u001b[0;31mException\u001b[0m                                 Traceback (most recent call last)",
      "\u001b[0;32m/var/folders/nn/c52y0d3j0gq59dpsswchkt2r0000gn/T/ipykernel_16918/4230883290.py\u001b[0m in \u001b[0;36m<module>\u001b[0;34m\u001b[0m\n\u001b[0;32m----> 1\u001b[0;31m \u001b[0;32mraise\u001b[0m \u001b[0mException\u001b[0m\u001b[0;34m(\u001b[0m\u001b[0;34m\"This password is incorrect!\"\u001b[0m\u001b[0;34m)\u001b[0m\u001b[0;34m\u001b[0m\u001b[0;34m\u001b[0m\u001b[0m\n\u001b[0m",
      "\u001b[0;31mException\u001b[0m: This password is incorrect!"
     ]
    }
   ],
   "source": [
    "raise Exception(\"This password is incorrect!\")"
   ]
  },
  {
   "cell_type": "code",
   "execution_count": 25,
   "id": "83d38649",
   "metadata": {},
   "outputs": [],
   "source": [
    "class MyCustomException(Exception):\n",
    "    pass"
   ]
  },
  {
   "cell_type": "code",
   "execution_count": 26,
   "id": "d4f0c8d0",
   "metadata": {},
   "outputs": [
    {
     "ename": "ZeroDivisionError",
     "evalue": "",
     "output_type": "error",
     "traceback": [
      "\u001b[0;31m---------------------------------------------------------------------------\u001b[0m",
      "\u001b[0;31mZeroDivisionError\u001b[0m                         Traceback (most recent call last)",
      "\u001b[0;32m/var/folders/nn/c52y0d3j0gq59dpsswchkt2r0000gn/T/ipykernel_16918/358704005.py\u001b[0m in \u001b[0;36m<module>\u001b[0;34m\u001b[0m\n\u001b[0;32m----> 1\u001b[0;31m \u001b[0;32mraise\u001b[0m \u001b[0mZeroDivisionError\u001b[0m\u001b[0;34m\u001b[0m\u001b[0;34m\u001b[0m\u001b[0m\n\u001b[0m",
      "\u001b[0;31mZeroDivisionError\u001b[0m: "
     ]
    }
   ],
   "source": [
    "raise ZeroDivisionError"
   ]
  },
  {
   "cell_type": "code",
   "execution_count": 28,
   "id": "411a9301",
   "metadata": {},
   "outputs": [
    {
     "ename": "Exception",
     "evalue": "Number is odd!",
     "output_type": "error",
     "traceback": [
      "\u001b[0;31m---------------------------------------------------------------------------\u001b[0m",
      "\u001b[0;31mException\u001b[0m                                 Traceback (most recent call last)",
      "\u001b[0;32m/var/folders/nn/c52y0d3j0gq59dpsswchkt2r0000gn/T/ipykernel_16918/1843516705.py\u001b[0m in \u001b[0;36m<module>\u001b[0;34m\u001b[0m\n\u001b[1;32m      1\u001b[0m \u001b[0mnum\u001b[0m \u001b[0;34m=\u001b[0m \u001b[0;36m5\u001b[0m\u001b[0;34m\u001b[0m\u001b[0;34m\u001b[0m\u001b[0m\n\u001b[1;32m      2\u001b[0m \u001b[0;32mif\u001b[0m \u001b[0mnum\u001b[0m\u001b[0;34m%\u001b[0m\u001b[0;36m2\u001b[0m \u001b[0;34m!=\u001b[0m \u001b[0;36m0\u001b[0m\u001b[0;34m:\u001b[0m\u001b[0;34m\u001b[0m\u001b[0;34m\u001b[0m\u001b[0m\n\u001b[0;32m----> 3\u001b[0;31m     \u001b[0;32mraise\u001b[0m \u001b[0mException\u001b[0m\u001b[0;34m(\u001b[0m\u001b[0;34m\"Number is odd!\"\u001b[0m\u001b[0;34m)\u001b[0m\u001b[0;34m\u001b[0m\u001b[0;34m\u001b[0m\u001b[0m\n\u001b[0m",
      "\u001b[0;31mException\u001b[0m: Number is odd!"
     ]
    }
   ],
   "source": [
    "num = 5\n",
    "if num%2 != 0:\n",
    "    raise Exception(\"Number is odd!\")"
   ]
  },
  {
   "cell_type": "code",
   "execution_count": 30,
   "id": "8a083baf",
   "metadata": {},
   "outputs": [
    {
     "data": {
      "text/plain": [
       "'random'"
      ]
     },
     "execution_count": 30,
     "metadata": {},
     "output_type": "execute_result"
    }
   ],
   "source": [
    "\"random\" or \"something\""
   ]
  },
  {
   "cell_type": "code",
   "execution_count": 32,
   "id": "65a25da9",
   "metadata": {},
   "outputs": [],
   "source": [
    "if \"\":\n",
    "    print(\"TRUTHY\")"
   ]
  },
  {
   "cell_type": "code",
   "execution_count": 33,
   "id": "5cc9cd67",
   "metadata": {},
   "outputs": [
    {
     "data": {
      "text/plain": [
       "'something'"
      ]
     },
     "execution_count": 33,
     "metadata": {},
     "output_type": "execute_result"
    }
   ],
   "source": [
    "\"random\" and \"something\""
   ]
  },
  {
   "cell_type": "code",
   "execution_count": null,
   "id": "c18584f8",
   "metadata": {},
   "outputs": [],
   "source": []
  },
  {
   "cell_type": "code",
   "execution_count": null,
   "id": "58d4ee00",
   "metadata": {},
   "outputs": [],
   "source": []
  }
 ],
 "metadata": {
  "kernelspec": {
   "display_name": "Python 3 (ipykernel)",
   "language": "python",
   "name": "python3"
  },
  "language_info": {
   "codemirror_mode": {
    "name": "ipython",
    "version": 3
   },
   "file_extension": ".py",
   "mimetype": "text/x-python",
   "name": "python",
   "nbconvert_exporter": "python",
   "pygments_lexer": "ipython3",
   "version": "3.9.5"
  }
 },
 "nbformat": 4,
 "nbformat_minor": 5
}
