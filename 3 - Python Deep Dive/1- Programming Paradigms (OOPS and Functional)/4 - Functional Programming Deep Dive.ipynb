{
 "cells": [
  {
   "cell_type": "code",
   "execution_count": 1,
   "id": "0178fa95",
   "metadata": {},
   "outputs": [],
   "source": [
    "x = 5 # initial data\n",
    "\n",
    "# Hidden Mutations\n",
    "x = 3*x\n",
    "x += 1\n",
    "# Hidden Mutations\n",
    "\n",
    "# Problem - Can't rollback mutations"
   ]
  },
  {
   "cell_type": "code",
   "execution_count": 2,
   "id": "d0e9969b",
   "metadata": {},
   "outputs": [
    {
     "data": {
      "text/plain": [
       "16"
      ]
     },
     "execution_count": 2,
     "metadata": {},
     "output_type": "execute_result"
    }
   ],
   "source": [
    "x"
   ]
  },
  {
   "cell_type": "code",
   "execution_count": 4,
   "id": "53383e33",
   "metadata": {},
   "outputs": [],
   "source": [
    "x = 5\n",
    "\n",
    "x1 = 2*x\n",
    "x2 = x1 + 1 \n",
    "\n",
    "# Problem - Too many variables"
   ]
  },
  {
   "cell_type": "code",
   "execution_count": 5,
   "id": "77c5fdbf",
   "metadata": {},
   "outputs": [],
   "source": [
    "x = 5\n",
    "\n",
    "def mutation_1(x):\n",
    "    x = 2*x\n",
    "    x += 1\n",
    "    \n",
    "    return x\n",
    "\n",
    "x1 = mutation_1(x)"
   ]
  },
  {
   "cell_type": "markdown",
   "id": "486e321b",
   "metadata": {},
   "source": [
    "## Maps"
   ]
  },
  {
   "cell_type": "code",
   "execution_count": 6,
   "id": "7623e8a9",
   "metadata": {},
   "outputs": [],
   "source": [
    "a = [1,2,3,4,5]"
   ]
  },
  {
   "cell_type": "code",
   "execution_count": 9,
   "id": "cef90e48",
   "metadata": {},
   "outputs": [],
   "source": [
    "res1 = [ i**2 for i in a ]\n",
    "# __iter__\n",
    "# __next__"
   ]
  },
  {
   "cell_type": "code",
   "execution_count": 10,
   "id": "a21d21d5",
   "metadata": {},
   "outputs": [
    {
     "data": {
      "text/plain": [
       "[1, 4, 9, 16, 25]"
      ]
     },
     "execution_count": 10,
     "metadata": {},
     "output_type": "execute_result"
    }
   ],
   "source": [
    "res1"
   ]
  },
  {
   "cell_type": "code",
   "execution_count": 12,
   "id": "65af2939",
   "metadata": {},
   "outputs": [],
   "source": [
    "m = map(lambda x: x**2, a)"
   ]
  },
  {
   "cell_type": "code",
   "execution_count": 14,
   "id": "53077536",
   "metadata": {},
   "outputs": [],
   "source": [
    "m_list = list(m)"
   ]
  },
  {
   "cell_type": "code",
   "execution_count": 15,
   "id": "e617d72a",
   "metadata": {},
   "outputs": [
    {
     "data": {
      "text/plain": [
       "[1, 4, 9, 16, 25]"
      ]
     },
     "execution_count": 15,
     "metadata": {},
     "output_type": "execute_result"
    }
   ],
   "source": [
    "m_list"
   ]
  },
  {
   "cell_type": "code",
   "execution_count": 16,
   "id": "67660ec5",
   "metadata": {},
   "outputs": [],
   "source": [
    "m_direct = list(map(lambda x: x**2, a))"
   ]
  },
  {
   "cell_type": "code",
   "execution_count": 17,
   "id": "7fd43b86",
   "metadata": {},
   "outputs": [
    {
     "data": {
      "text/plain": [
       "[1, 4, 9, 16, 25]"
      ]
     },
     "execution_count": 17,
     "metadata": {},
     "output_type": "execute_result"
    }
   ],
   "source": [
    "m_direct"
   ]
  },
  {
   "cell_type": "code",
   "execution_count": 20,
   "id": "b8e39004",
   "metadata": {},
   "outputs": [],
   "source": [
    "# Convert given height to t-shirt size\n",
    "# h < 150 -> S\n",
    "# h >= 150 and h < 180 -> M\n",
    "# h >= 180 -> L\n",
    "\n",
    "heights = [144, 167, 189, 170, 190, 150, 165, 178, 200, 130]"
   ]
  },
  {
   "cell_type": "code",
   "execution_count": 22,
   "id": "60993ca7",
   "metadata": {},
   "outputs": [],
   "source": [
    "def complex_logic(height):\n",
    "    if height < 150:\n",
    "        return \"S\"\n",
    "    elif height >= 150 and height < 180:\n",
    "        return \"M\"\n",
    "    elif height > 180:\n",
    "        return \"L\""
   ]
  },
  {
   "cell_type": "code",
   "execution_count": 23,
   "id": "2bee8228",
   "metadata": {},
   "outputs": [],
   "source": [
    "sizes = list(map(complex_logic, heights))"
   ]
  },
  {
   "cell_type": "code",
   "execution_count": 156,
   "id": "e7c5532f",
   "metadata": {},
   "outputs": [],
   "source": [
    "sizes_2 = list(map(lambda x: \"S\" if x < 150 else \"M\" if x >= 150 and x < 180 else \"L\", heights))"
   ]
  },
  {
   "cell_type": "code",
   "execution_count": 157,
   "id": "0f489602",
   "metadata": {},
   "outputs": [
    {
     "data": {
      "text/plain": [
       "['S', 'M', 'L', 'M', 'L', 'M', 'M', 'M', 'L', 'S']"
      ]
     },
     "execution_count": 157,
     "metadata": {},
     "output_type": "execute_result"
    }
   ],
   "source": [
    "sizes_2"
   ]
  },
  {
   "cell_type": "code",
   "execution_count": 24,
   "id": "33f0edca",
   "metadata": {},
   "outputs": [
    {
     "data": {
      "text/plain": [
       "['S', 'M', 'L', 'M', 'L', 'M', 'M', 'M', 'L', 'S']"
      ]
     },
     "execution_count": 24,
     "metadata": {},
     "output_type": "execute_result"
    }
   ],
   "source": [
    "sizes"
   ]
  },
  {
   "cell_type": "code",
   "execution_count": 26,
   "id": "41104fe3",
   "metadata": {},
   "outputs": [],
   "source": [
    "A = [1,0,0,1,1,1,0,0,0,1,0,1]\n",
    "B = [0,0,1,1,0,1,1,1,0,0,0,0]\n",
    "\n",
    "# C = [True, True, False.........]"
   ]
  },
  {
   "cell_type": "code",
   "execution_count": 27,
   "id": "c07197ba",
   "metadata": {},
   "outputs": [],
   "source": [
    "# C = True if both have same element else False"
   ]
  },
  {
   "cell_type": "code",
   "execution_count": 28,
   "id": "94296d62",
   "metadata": {},
   "outputs": [],
   "source": [
    "random1 = [1,2,3]\n",
    "random2 = [1,2,3]\n",
    "\n",
    "random = list(map(lambda x,y: x+y, random1, random2))"
   ]
  },
  {
   "cell_type": "code",
   "execution_count": 29,
   "id": "63f9b4a5",
   "metadata": {},
   "outputs": [
    {
     "data": {
      "text/plain": [
       "[2, 4, 6]"
      ]
     },
     "execution_count": 29,
     "metadata": {},
     "output_type": "execute_result"
    }
   ],
   "source": [
    "random"
   ]
  },
  {
   "cell_type": "code",
   "execution_count": 30,
   "id": "38097de3",
   "metadata": {},
   "outputs": [],
   "source": [
    "C = list(map(lambda x, y: x==y, A, B))"
   ]
  },
  {
   "cell_type": "code",
   "execution_count": 31,
   "id": "178adc6f",
   "metadata": {},
   "outputs": [
    {
     "data": {
      "text/plain": [
       "[False, True, False, True, False, True, False, False, True, False, True, False]"
      ]
     },
     "execution_count": 31,
     "metadata": {},
     "output_type": "execute_result"
    }
   ],
   "source": [
    "C"
   ]
  },
  {
   "cell_type": "markdown",
   "id": "83162e46",
   "metadata": {},
   "source": [
    "## Filters"
   ]
  },
  {
   "cell_type": "code",
   "execution_count": 34,
   "id": "f6b27092",
   "metadata": {},
   "outputs": [
    {
     "name": "stdout",
     "output_type": "stream",
     "text": [
      "[1, 2, 3, 4, 5, 6, 7, 8, 9, 10]\n"
     ]
    }
   ],
   "source": [
    "a = list(range(1,11))\n",
    "\n",
    "print(a)"
   ]
  },
  {
   "cell_type": "code",
   "execution_count": 35,
   "id": "9c19d8dd",
   "metadata": {},
   "outputs": [],
   "source": [
    "f = filter(lambda x: x%2 == 0, a)"
   ]
  },
  {
   "cell_type": "code",
   "execution_count": 37,
   "id": "24fcea7f",
   "metadata": {},
   "outputs": [],
   "source": [
    "f_list = list(f)"
   ]
  },
  {
   "cell_type": "code",
   "execution_count": 38,
   "id": "a8e6b4e5",
   "metadata": {},
   "outputs": [
    {
     "data": {
      "text/plain": [
       "[2, 4, 6, 8, 10]"
      ]
     },
     "execution_count": 38,
     "metadata": {},
     "output_type": "execute_result"
    }
   ],
   "source": [
    "f_list"
   ]
  },
  {
   "cell_type": "markdown",
   "id": "9c32123f",
   "metadata": {},
   "source": [
    "## Zip"
   ]
  },
  {
   "cell_type": "code",
   "execution_count": 49,
   "id": "18fc3d39",
   "metadata": {},
   "outputs": [],
   "source": [
    "a = [1,2,3]\n",
    "b = [\"a\", \"b\", \"c\", \"d\", \"e\"]\n",
    "# c = [\"x\", \"y\", \"z\", \"m\", \"n\"]"
   ]
  },
  {
   "cell_type": "code",
   "execution_count": 52,
   "id": "5a096cbe",
   "metadata": {},
   "outputs": [],
   "source": [
    "result = list(zip(b,a))"
   ]
  },
  {
   "cell_type": "code",
   "execution_count": 53,
   "id": "098bb660",
   "metadata": {},
   "outputs": [
    {
     "data": {
      "text/plain": [
       "[('a', 1), ('b', 2), ('c', 3)]"
      ]
     },
     "execution_count": 53,
     "metadata": {},
     "output_type": "execute_result"
    }
   ],
   "source": [
    "result"
   ]
  },
  {
   "cell_type": "markdown",
   "id": "0590fa0f",
   "metadata": {},
   "source": [
    "## Reduce"
   ]
  },
  {
   "cell_type": "code",
   "execution_count": 55,
   "id": "dd011eeb",
   "metadata": {},
   "outputs": [],
   "source": [
    "from functools import reduce\n",
    "\n",
    "# this lines brings reduce function into current code"
   ]
  },
  {
   "cell_type": "code",
   "execution_count": 57,
   "id": "b630bf05",
   "metadata": {},
   "outputs": [],
   "source": [
    "a = [1,2,3,4,5]"
   ]
  },
  {
   "cell_type": "code",
   "execution_count": 58,
   "id": "877db7d0",
   "metadata": {},
   "outputs": [],
   "source": [
    "result = reduce(lambda x, y: x + y, a)"
   ]
  },
  {
   "cell_type": "code",
   "execution_count": 59,
   "id": "b0676239",
   "metadata": {},
   "outputs": [
    {
     "data": {
      "text/plain": [
       "15"
      ]
     },
     "execution_count": 59,
     "metadata": {},
     "output_type": "execute_result"
    }
   ],
   "source": [
    "result"
   ]
  },
  {
   "cell_type": "code",
   "execution_count": 69,
   "id": "7f1c1d3a",
   "metadata": {},
   "outputs": [],
   "source": [
    "a = list(range(1,11))\n",
    "b = list(reversed(a))"
   ]
  },
  {
   "cell_type": "code",
   "execution_count": 70,
   "id": "443d5df3",
   "metadata": {},
   "outputs": [
    {
     "data": {
      "text/plain": [
       "[1, 2, 3, 4, 5, 6, 7, 8, 9, 10]"
      ]
     },
     "execution_count": 70,
     "metadata": {},
     "output_type": "execute_result"
    }
   ],
   "source": [
    "a"
   ]
  },
  {
   "cell_type": "code",
   "execution_count": 71,
   "id": "9a88d0f5",
   "metadata": {},
   "outputs": [
    {
     "data": {
      "text/plain": [
       "[10, 9, 8, 7, 6, 5, 4, 3, 2, 1]"
      ]
     },
     "execution_count": 71,
     "metadata": {},
     "output_type": "execute_result"
    }
   ],
   "source": [
    "b"
   ]
  },
  {
   "cell_type": "code",
   "execution_count": 72,
   "id": "708b739f",
   "metadata": {},
   "outputs": [
    {
     "name": "stdout",
     "output_type": "stream",
     "text": [
      "True\n"
     ]
    }
   ],
   "source": [
    "print(reduce(lambda x,y: x*y, a) == reduce(lambda x,y: x*y, b))"
   ]
  },
  {
   "cell_type": "code",
   "execution_count": 73,
   "id": "e4a2d347",
   "metadata": {},
   "outputs": [],
   "source": [
    "# Give me the max element from a list of elements"
   ]
  },
  {
   "cell_type": "code",
   "execution_count": 76,
   "id": "dccca93a",
   "metadata": {},
   "outputs": [],
   "source": [
    "max_element = reduce(lambda x, y: x if x>y else y, a)"
   ]
  },
  {
   "cell_type": "code",
   "execution_count": 77,
   "id": "ad603741",
   "metadata": {
    "scrolled": true
   },
   "outputs": [
    {
     "data": {
      "text/plain": [
       "10"
      ]
     },
     "execution_count": 77,
     "metadata": {},
     "output_type": "execute_result"
    }
   ],
   "source": [
    "max_element"
   ]
  },
  {
   "cell_type": "code",
   "execution_count": 80,
   "id": "5d0a89b6",
   "metadata": {},
   "outputs": [
    {
     "data": {
      "text/plain": [
       "155"
      ]
     },
     "execution_count": 80,
     "metadata": {},
     "output_type": "execute_result"
    }
   ],
   "source": [
    "reduce(lambda x, y: x + y, a, 100)\n",
    "\n",
    "# By default - initial = first element of the list"
   ]
  },
  {
   "cell_type": "markdown",
   "id": "4eca1676",
   "metadata": {},
   "source": [
    "## Args and Kwargs"
   ]
  },
  {
   "cell_type": "code",
   "execution_count": 84,
   "id": "2195604c",
   "metadata": {},
   "outputs": [],
   "source": [
    "def sum_number(x, y):\n",
    "    return x + y\n",
    "\n",
    "# A good sum function\n",
    "# - should take at least 2 arguments\n",
    "# - should take a max of infinite arguments"
   ]
  },
  {
   "cell_type": "code",
   "execution_count": 85,
   "id": "932e6e5e",
   "metadata": {},
   "outputs": [],
   "source": [
    "res = sum_number(6,7)"
   ]
  },
  {
   "cell_type": "code",
   "execution_count": 86,
   "id": "f5dc9684",
   "metadata": {},
   "outputs": [
    {
     "data": {
      "text/plain": [
       "13"
      ]
     },
     "execution_count": 86,
     "metadata": {},
     "output_type": "execute_result"
    }
   ],
   "source": [
    "res"
   ]
  },
  {
   "cell_type": "code",
   "execution_count": 94,
   "id": "0931dfa6",
   "metadata": {},
   "outputs": [
    {
     "data": {
      "text/plain": [
       "False"
      ]
     },
     "execution_count": 94,
     "metadata": {},
     "output_type": "execute_result"
    }
   ],
   "source": [
    "bool(())"
   ]
  },
  {
   "cell_type": "code",
   "execution_count": 117,
   "id": "c7da363b",
   "metadata": {},
   "outputs": [],
   "source": [
    "def sum_number(x, y, *args):\n",
    "    result = x + y\n",
    "    if args:\n",
    "        result += sum(args)\n",
    "        \n",
    "    return result"
   ]
  },
  {
   "cell_type": "code",
   "execution_count": 118,
   "id": "ce1659c3",
   "metadata": {},
   "outputs": [],
   "source": [
    "def sum_number(x, y, *meri_marzi_ka_nam):\n",
    "    result = x + y\n",
    "    if meri_marzi_ka_nam:\n",
    "        result += sum(meri_marzi_ka_nam)\n",
    "        \n",
    "    return result"
   ]
  },
  {
   "cell_type": "code",
   "execution_count": 119,
   "id": "4a10d813",
   "metadata": {},
   "outputs": [
    {
     "data": {
      "text/plain": [
       "126"
      ]
     },
     "execution_count": 119,
     "metadata": {},
     "output_type": "execute_result"
    }
   ],
   "source": [
    "sum_number(5,6,7,8,9,10,11,12,13,14,15,16)"
   ]
  },
  {
   "cell_type": "code",
   "execution_count": 120,
   "id": "65bfd01d",
   "metadata": {},
   "outputs": [
    {
     "data": {
      "text/plain": [
       "24"
      ]
     },
     "execution_count": 120,
     "metadata": {},
     "output_type": "execute_result"
    }
   ],
   "source": [
    "sum_number(5, 9, 10)"
   ]
  },
  {
   "cell_type": "code",
   "execution_count": 121,
   "id": "5305f8bd",
   "metadata": {},
   "outputs": [],
   "source": [
    "def create_person(name, age, gender):\n",
    "    Person = {\n",
    "        \"name\": name,\n",
    "        \"age\": age,\n",
    "        \"gender\": gender\n",
    "    }\n",
    "    \n",
    "    return Person"
   ]
  },
  {
   "cell_type": "code",
   "execution_count": 122,
   "id": "2df75967",
   "metadata": {},
   "outputs": [],
   "source": [
    "p1 = create_person(name = \"Rohit\", age = 1500, gender = \"Male\")"
   ]
  },
  {
   "cell_type": "code",
   "execution_count": 123,
   "id": "a600309f",
   "metadata": {},
   "outputs": [
    {
     "data": {
      "text/plain": [
       "{'name': 'Rohit', 'age': 1500, 'gender': 'Male'}"
      ]
     },
     "execution_count": 123,
     "metadata": {},
     "output_type": "execute_result"
    }
   ],
   "source": [
    "p1"
   ]
  },
  {
   "cell_type": "code",
   "execution_count": 124,
   "id": "536f1de3",
   "metadata": {},
   "outputs": [],
   "source": [
    "def create_person(name, age, gender, **extra_info):\n",
    "    Person = {\n",
    "        \"name\": name,\n",
    "        \"age\": age,\n",
    "        \"gender\": gender\n",
    "    }\n",
    "    \n",
    "    if extra_info:\n",
    "        Person.update(extra_info)\n",
    "    \n",
    "    return Person"
   ]
  },
  {
   "cell_type": "code",
   "execution_count": 125,
   "id": "ef3c984e",
   "metadata": {},
   "outputs": [
    {
     "data": {
      "text/plain": [
       "{'name': 'Rohit',\n",
       " 'age': 1500,\n",
       " 'gender': 'Male',\n",
       " 'color': 'blue',\n",
       " 'hobby': 'chess'}"
      ]
     },
     "execution_count": 125,
     "metadata": {},
     "output_type": "execute_result"
    }
   ],
   "source": [
    "create_person(name = \"Rohit\", age = 1500, gender = \"Male\", color = \"blue\", hobby = \"chess\")"
   ]
  },
  {
   "cell_type": "code",
   "execution_count": 151,
   "id": "40dbc5e2",
   "metadata": {},
   "outputs": [],
   "source": [
    "def random(x, y, *args, **kwargs):\n",
    "    print(x)\n",
    "    print(args)\n",
    "    print(kwargs)"
   ]
  },
  {
   "cell_type": "code",
   "execution_count": 152,
   "id": "1718a7e7",
   "metadata": {},
   "outputs": [
    {
     "ename": "SyntaxError",
     "evalue": "positional argument follows keyword argument (3898687063.py, line 1)",
     "output_type": "error",
     "traceback": [
      "\u001b[0;36m  File \u001b[0;32m\"/var/folders/nn/c52y0d3j0gq59dpsswchkt2r0000gn/T/ipykernel_41189/3898687063.py\"\u001b[0;36m, line \u001b[0;32m1\u001b[0m\n\u001b[0;31m    random(1,2,4,5,6,m=1,n=2,o=3,8,9,0)\u001b[0m\n\u001b[0m                                      ^\u001b[0m\n\u001b[0;31mSyntaxError\u001b[0m\u001b[0;31m:\u001b[0m positional argument follows keyword argument\n"
     ]
    }
   ],
   "source": [
    "random(1,2,4,5,6,m=1,n=2,o=3,8,9,0)"
   ]
  },
  {
   "cell_type": "code",
   "execution_count": 153,
   "id": "b76bee67",
   "metadata": {},
   "outputs": [],
   "source": [
    "# Positional -> Args -> Keyworded -> Kwargs"
   ]
  },
  {
   "cell_type": "code",
   "execution_count": 155,
   "id": "f3a33c7d",
   "metadata": {},
   "outputs": [
    {
     "name": "stdout",
     "output_type": "stream",
     "text": [
      "2\n",
      "(2, 3)\n",
      "{'z': 1}\n"
     ]
    }
   ],
   "source": [
    "random(2,1,2,3,z=1)"
   ]
  },
  {
   "cell_type": "code",
   "execution_count": 132,
   "id": "00fe0aad",
   "metadata": {},
   "outputs": [
    {
     "name": "stdout",
     "output_type": "stream",
     "text": [
      "1\n",
      "()\n",
      "{'y': 2}\n"
     ]
    }
   ],
   "source": [
    "random(1,y=2)"
   ]
  },
  {
   "cell_type": "code",
   "execution_count": 134,
   "id": "3c722a68",
   "metadata": {},
   "outputs": [
    {
     "name": "stdout",
     "output_type": "stream",
     "text": [
      "Object `continue` not found.\n"
     ]
    }
   ],
   "source": [
    "random = lambda x: x+2 if x > 5 else continue?"
   ]
  },
  {
   "cell_type": "code",
   "execution_count": 146,
   "id": "3f971b48",
   "metadata": {},
   "outputs": [
    {
     "ename": "SyntaxError",
     "evalue": "invalid syntax (2612326829.py, line 1)",
     "output_type": "error",
     "traceback": [
      "\u001b[0;36m  File \u001b[0;32m\"/var/folders/nn/c52y0d3j0gq59dpsswchkt2r0000gn/T/ipykernel_41189/2612326829.py\"\u001b[0;36m, line \u001b[0;32m1\u001b[0m\n\u001b[0;31m    random1 = lambda x: x+2 if x > 5 else break\u001b[0m\n\u001b[0m                                          ^\u001b[0m\n\u001b[0;31mSyntaxError\u001b[0m\u001b[0;31m:\u001b[0m invalid syntax\n"
     ]
    }
   ],
   "source": [
    "random1 = lambda x: x+2 if x > 5 else break"
   ]
  },
  {
   "cell_type": "code",
   "execution_count": 144,
   "id": "bb002ce7",
   "metadata": {},
   "outputs": [],
   "source": [
    "res = random1(6)"
   ]
  },
  {
   "cell_type": "code",
   "execution_count": 145,
   "id": "72bd16b8",
   "metadata": {},
   "outputs": [
    {
     "data": {
      "text/plain": [
       "8"
      ]
     },
     "execution_count": 145,
     "metadata": {},
     "output_type": "execute_result"
    }
   ],
   "source": [
    "res"
   ]
  },
  {
   "cell_type": "code",
   "execution_count": 160,
   "id": "f00af85d",
   "metadata": {},
   "outputs": [],
   "source": [
    "def rand1(x,y,*args,**kw):\n",
    "    print(x,y)\n",
    "    print(args)\n",
    "    print(kw)\n",
    "    \n",
    "def rand(x,y):\n",
    "    print(x,y)"
   ]
  },
  {
   "cell_type": "code",
   "execution_count": 163,
   "id": "5edd06d8",
   "metadata": {},
   "outputs": [
    {
     "name": "stdout",
     "output_type": "stream",
     "text": [
      "1 2\n",
      "1 2\n",
      "()\n",
      "{}\n"
     ]
    }
   ],
   "source": [
    "rand(y=2,x=1)\n",
    "rand1(x=1,y=2)\n",
    "# x = 1\n",
    "# y = 2\n",
    "# args = (3,)\n",
    "# kwargs"
   ]
  },
  {
   "cell_type": "code",
   "execution_count": null,
   "id": "5ebeaf9d",
   "metadata": {},
   "outputs": [],
   "source": []
  }
 ],
 "metadata": {
  "kernelspec": {
   "display_name": "Python 3 (ipykernel)",
   "language": "python",
   "name": "python3"
  },
  "language_info": {
   "codemirror_mode": {
    "name": "ipython",
    "version": 3
   },
   "file_extension": ".py",
   "mimetype": "text/x-python",
   "name": "python",
   "nbconvert_exporter": "python",
   "pygments_lexer": "ipython3",
   "version": "3.9.5"
  }
 },
 "nbformat": 4,
 "nbformat_minor": 5
}
