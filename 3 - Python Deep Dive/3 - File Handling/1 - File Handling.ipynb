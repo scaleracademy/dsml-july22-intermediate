{
 "cells": [
  {
   "cell_type": "markdown",
   "id": "e57fa710",
   "metadata": {},
   "source": [
    "# <center>Working with Files</center>"
   ]
  },
  {
   "cell_type": "markdown",
   "id": "7bf9ead2",
   "metadata": {},
   "source": [
    "## File Access Modes\n",
    "\n",
    ">Access modes govern the type of operations possible in the opened file. It refers to how the file will be used once its opened. These modes also define the location of the File Handle in the file. File handle is like a cursor, which defines from where the data has to be read or written in the file. There are 6 access modes in python.\n",
    "\n",
    "- **Read Only (‘r’)** : Open text file for reading. The handle is positioned at the beginning of the file. If the file does not exists, raises I/O error. This is also the default mode in which file is opened.\n",
    "\n",
    "\n",
    "- **Read and Write (‘r+’)** : Open the file for reading and writing. The handle is positioned at the beginning of the file. Raises I/O error if the file does not exists.\n",
    "\n",
    "\n",
    "- **Write Only (‘w’)** : Open the file for writing. For existing file, the data is truncated and over-written. The handle is positioned at the beginning of the file. Creates the file if the file does not exists.\n",
    "\n",
    "\n",
    "- **Write and Read (‘w+’)** : Open the file for reading and writing. For existing file, data is truncated and over-written. The handle is positioned at the beginning of the file.\n",
    "\n",
    "\n",
    "- **Append Only (‘a’)** : Open the file for writing. The file is created if it does not exist. The handle is positioned at the end of the file. The data being written will be inserted at the end, after the existing data.\n",
    "\n",
    "\n",
    "- **Append and Read (‘a+’)** : Open the file for reading and writing. The file is created if it does not exist. The handle is positioned at the end of the file. The data being written will be inserted at the end, after the existing data."
   ]
  },
  {
   "cell_type": "markdown",
   "id": "52edf9b6",
   "metadata": {},
   "source": [
    "### Opening a file"
   ]
  },
  {
   "cell_type": "code",
   "execution_count": 4,
   "id": "8263a39e",
   "metadata": {},
   "outputs": [
    {
     "ename": "FileNotFoundError",
     "evalue": "[Errno 2] No such file or directory: 'sample.txt'",
     "output_type": "error",
     "traceback": [
      "\u001b[0;31m---------------------------------------------------------------------------\u001b[0m",
      "\u001b[0;31mFileNotFoundError\u001b[0m                         Traceback (most recent call last)",
      "\u001b[0;32m/var/folders/nn/c52y0d3j0gq59dpsswchkt2r0000gn/T/ipykernel_27200/61014352.py\u001b[0m in \u001b[0;36m<module>\u001b[0;34m\u001b[0m\n\u001b[0;32m----> 1\u001b[0;31m \u001b[0mfile\u001b[0m \u001b[0;34m=\u001b[0m \u001b[0mopen\u001b[0m\u001b[0;34m(\u001b[0m\u001b[0;34m\"sample.txt\"\u001b[0m\u001b[0;34m,\u001b[0m \u001b[0;34m\"r\"\u001b[0m\u001b[0;34m)\u001b[0m\u001b[0;34m\u001b[0m\u001b[0;34m\u001b[0m\u001b[0m\n\u001b[0m",
      "\u001b[0;31mFileNotFoundError\u001b[0m: [Errno 2] No such file or directory: 'sample.txt'"
     ]
    }
   ],
   "source": [
    "file = open(\"sample.txt\", \"r\")"
   ]
  },
  {
   "cell_type": "code",
   "execution_count": 5,
   "id": "4d31bf4c",
   "metadata": {},
   "outputs": [],
   "source": [
    "file = open(\"sample.txt\", \"w\")"
   ]
  },
  {
   "cell_type": "code",
   "execution_count": 6,
   "id": "cc1c327b",
   "metadata": {},
   "outputs": [],
   "source": [
    "file.close()"
   ]
  },
  {
   "cell_type": "markdown",
   "id": "db877733",
   "metadata": {},
   "source": [
    "### Closing a file\n",
    "\n",
    "<img src=https://memegenerator.net/img/instances/500x/58748422/if-you-could-just-close-that-file-thatd-be-great-emm-kay.jpg height=400 width=400>"
   ]
  },
  {
   "cell_type": "markdown",
   "id": "5d4f6dfe",
   "metadata": {},
   "source": [
    "### Writing to a file\n",
    "\n",
    "- write\n",
    "- writelines"
   ]
  },
  {
   "cell_type": "code",
   "execution_count": 17,
   "id": "9888d113",
   "metadata": {},
   "outputs": [],
   "source": [
    "file = open(\"sample.txt\", \"w+\")"
   ]
  },
  {
   "cell_type": "code",
   "execution_count": 18,
   "id": "96199e59",
   "metadata": {},
   "outputs": [
    {
     "data": {
      "text/plain": [
       "29"
      ]
     },
     "execution_count": 18,
     "metadata": {},
     "output_type": "execute_result"
    }
   ],
   "source": [
    "file.write(\"Hello everyone from the file!\")"
   ]
  },
  {
   "cell_type": "code",
   "execution_count": 19,
   "id": "d6e08e95",
   "metadata": {},
   "outputs": [],
   "source": [
    "file.close()"
   ]
  },
  {
   "cell_type": "code",
   "execution_count": 6,
   "id": "32a0d5b4",
   "metadata": {},
   "outputs": [],
   "source": [
    "file = open(\"sample2.txt\", \"w+\")"
   ]
  },
  {
   "cell_type": "code",
   "execution_count": 7,
   "id": "9709acd3",
   "metadata": {},
   "outputs": [],
   "source": [
    "file.writelines([\"1\\n\", \"2\\n\", \"3\\n\"])"
   ]
  },
  {
   "cell_type": "code",
   "execution_count": 8,
   "id": "0e01669e",
   "metadata": {},
   "outputs": [],
   "source": [
    "file.close()"
   ]
  },
  {
   "cell_type": "code",
   "execution_count": 9,
   "id": "c0280fb1",
   "metadata": {},
   "outputs": [
    {
     "name": "stdout",
     "output_type": "stream",
     "text": [
      "1\n",
      "2\n",
      "3\n",
      "\n"
     ]
    }
   ],
   "source": [
    "file = open(\"sample2.txt\", \"r+\")\n",
    "print(file.read())\n",
    "file.close()"
   ]
  },
  {
   "cell_type": "code",
   "execution_count": null,
   "id": "b4d8792e",
   "metadata": {},
   "outputs": [],
   "source": []
  },
  {
   "cell_type": "code",
   "execution_count": null,
   "id": "1ff08ff9",
   "metadata": {},
   "outputs": [],
   "source": []
  },
  {
   "cell_type": "markdown",
   "id": "9dca9eb1",
   "metadata": {},
   "source": [
    "### Reading from a file\n",
    "- read\n",
    "- readline\n",
    "- readlines"
   ]
  },
  {
   "cell_type": "code",
   "execution_count": 31,
   "id": "f5df348e",
   "metadata": {},
   "outputs": [],
   "source": [
    "file = open(\"sample.txt\", \"r+\")"
   ]
  },
  {
   "cell_type": "code",
   "execution_count": 32,
   "id": "240036c7",
   "metadata": {},
   "outputs": [
    {
     "data": {
      "text/plain": [
       "'Hello everyone from the file!THIS IS RANDOM'"
      ]
     },
     "execution_count": 32,
     "metadata": {},
     "output_type": "execute_result"
    }
   ],
   "source": [
    "file.read()"
   ]
  },
  {
   "cell_type": "code",
   "execution_count": 33,
   "id": "75821640",
   "metadata": {},
   "outputs": [
    {
     "data": {
      "text/plain": [
       "''"
      ]
     },
     "execution_count": 33,
     "metadata": {},
     "output_type": "execute_result"
    }
   ],
   "source": [
    "file.read()"
   ]
  },
  {
   "cell_type": "code",
   "execution_count": 22,
   "id": "18eec204",
   "metadata": {
    "scrolled": true
   },
   "outputs": [
    {
     "data": {
      "text/plain": [
       "14"
      ]
     },
     "execution_count": 22,
     "metadata": {},
     "output_type": "execute_result"
    }
   ],
   "source": [
    "file.write(\"THIS IS RANDOM\")"
   ]
  },
  {
   "cell_type": "code",
   "execution_count": 13,
   "id": "05f4d313",
   "metadata": {},
   "outputs": [
    {
     "data": {
      "text/plain": [
       "''"
      ]
     },
     "execution_count": 13,
     "metadata": {},
     "output_type": "execute_result"
    }
   ],
   "source": [
    "file.read()"
   ]
  },
  {
   "cell_type": "code",
   "execution_count": 30,
   "id": "aff22ed4",
   "metadata": {},
   "outputs": [],
   "source": [
    "file.close()"
   ]
  },
  {
   "cell_type": "code",
   "execution_count": 10,
   "id": "5a265bd3",
   "metadata": {},
   "outputs": [],
   "source": [
    "file = open(\"sample2.txt\", \"r+\")"
   ]
  },
  {
   "cell_type": "code",
   "execution_count": 11,
   "id": "49bfe686",
   "metadata": {},
   "outputs": [
    {
     "data": {
      "text/plain": [
       "'1\\n'"
      ]
     },
     "execution_count": 11,
     "metadata": {},
     "output_type": "execute_result"
    }
   ],
   "source": [
    "file.readline()"
   ]
  },
  {
   "cell_type": "code",
   "execution_count": 12,
   "id": "d32f37c6",
   "metadata": {},
   "outputs": [
    {
     "data": {
      "text/plain": [
       "'2\\n'"
      ]
     },
     "execution_count": 12,
     "metadata": {},
     "output_type": "execute_result"
    }
   ],
   "source": [
    "file.readline()"
   ]
  },
  {
   "cell_type": "code",
   "execution_count": 13,
   "id": "a6519532",
   "metadata": {},
   "outputs": [
    {
     "data": {
      "text/plain": [
       "'3\\n'"
      ]
     },
     "execution_count": 13,
     "metadata": {},
     "output_type": "execute_result"
    }
   ],
   "source": [
    "file.readline()"
   ]
  },
  {
   "cell_type": "code",
   "execution_count": 14,
   "id": "cb3bc13f",
   "metadata": {},
   "outputs": [
    {
     "data": {
      "text/plain": [
       "''"
      ]
     },
     "execution_count": 14,
     "metadata": {},
     "output_type": "execute_result"
    }
   ],
   "source": [
    "file.readline()"
   ]
  },
  {
   "cell_type": "code",
   "execution_count": 15,
   "id": "6bcc25f7",
   "metadata": {},
   "outputs": [],
   "source": [
    "file.close()"
   ]
  },
  {
   "cell_type": "code",
   "execution_count": 16,
   "id": "64cc3b04",
   "metadata": {},
   "outputs": [],
   "source": [
    "file = open(\"sample2.txt\", \"r+\")"
   ]
  },
  {
   "cell_type": "code",
   "execution_count": 17,
   "id": "8c6f35a3",
   "metadata": {},
   "outputs": [
    {
     "data": {
      "text/plain": [
       "['1\\n', '2\\n', '3\\n']"
      ]
     },
     "execution_count": 17,
     "metadata": {},
     "output_type": "execute_result"
    }
   ],
   "source": [
    "file.readlines()"
   ]
  },
  {
   "cell_type": "code",
   "execution_count": 18,
   "id": "32e9a2b5",
   "metadata": {},
   "outputs": [],
   "source": [
    "file.close()"
   ]
  },
  {
   "cell_type": "code",
   "execution_count": 20,
   "id": "54430669",
   "metadata": {},
   "outputs": [
    {
     "name": "stdout",
     "output_type": "stream",
     "text": [
      "1\n",
      "2\n",
      "3\n"
     ]
    }
   ],
   "source": [
    "# Option 1 -> Better for smaller files\n",
    "file = open(\"sample2.txt\", \"r+\")\n",
    "for line in file.readlines(): # n lines = n blocks of memory\n",
    "    print(line, end = \"\")\n",
    "    \n",
    "file.close()"
   ]
  },
  {
   "cell_type": "code",
   "execution_count": 22,
   "id": "7e4f6bd2",
   "metadata": {},
   "outputs": [
    {
     "name": "stdout",
     "output_type": "stream",
     "text": [
      "1\n",
      "2\n",
      "3\n"
     ]
    }
   ],
   "source": [
    "# Option 2 -> Better for larger files\n",
    "file = open(\"sample2.txt\", \"r+\")\n",
    "\n",
    "buffer = file.readline()\n",
    "\n",
    "while buffer: # n lines = 1 block of memory\n",
    "    print(buffer, end = \"\")\n",
    "    buffer = file.readline()\n",
    "    \n",
    "file.close()"
   ]
  },
  {
   "cell_type": "code",
   "execution_count": 23,
   "id": "32ec79a1",
   "metadata": {},
   "outputs": [
    {
     "name": "stdout",
     "output_type": "stream",
     "text": [
      "1\n",
      "2\n",
      "3\n"
     ]
    }
   ],
   "source": [
    "# Option 2 -> Better for larger files\n",
    "file = open(\"sample2.txt\", \"r+\")\n",
    "\n",
    "while True: # n lines = 1 block of memory\n",
    "    line = file.readline()\n",
    "    \n",
    "    if not line:\n",
    "        break\n",
    "    print(line, end = \"\")\n",
    "    \n",
    "file.close()"
   ]
  },
  {
   "cell_type": "code",
   "execution_count": 40,
   "id": "f75154de",
   "metadata": {},
   "outputs": [],
   "source": [
    "file = open(\"sample3.txt\", \"w+\")"
   ]
  },
  {
   "cell_type": "code",
   "execution_count": 41,
   "id": "4f423a10",
   "metadata": {},
   "outputs": [],
   "source": [
    "file.writelines([\"this is a line\\n\", \"this is some random second line\\n\", \"third line?\\n\"])"
   ]
  },
  {
   "cell_type": "code",
   "execution_count": 42,
   "id": "77f0b104",
   "metadata": {},
   "outputs": [],
   "source": [
    "file.close()"
   ]
  },
  {
   "cell_type": "code",
   "execution_count": 44,
   "id": "26f8ec99",
   "metadata": {},
   "outputs": [
    {
     "name": "stdout",
     "output_type": "stream",
     "text": [
      "this \n",
      "is a \n",
      "line\n",
      "\n",
      "this \n",
      "is so\n",
      "me ra\n",
      "ndom \n",
      "secon\n",
      "d lin\n",
      "e\n",
      "thi\n",
      "rd li\n",
      "ne?\n",
      "\n"
     ]
    }
   ],
   "source": [
    "file = open(\"sample3.txt\", \"r+\")\n",
    "\n",
    "while True:\n",
    "    chunk = file.read(5) # 5 is my chunk size\n",
    "    \n",
    "    if not chunk:\n",
    "        break\n",
    "    print(chunk)\n",
    "\n",
    "file.close()"
   ]
  },
  {
   "cell_type": "code",
   "execution_count": 45,
   "id": "1e04870a",
   "metadata": {},
   "outputs": [],
   "source": [
    "source = open(\"sample.jpeg\", \"rb+\") # b stands for binary files -> Any file encoding for which is not known"
   ]
  },
  {
   "cell_type": "code",
   "execution_count": 46,
   "id": "a508ad8a",
   "metadata": {},
   "outputs": [],
   "source": [
    "destination = open(\"sample2.jpeg\", \"wb+\")"
   ]
  },
  {
   "cell_type": "code",
   "execution_count": 47,
   "id": "7a6556af",
   "metadata": {},
   "outputs": [],
   "source": [
    "while True:\n",
    "    chunk = source.read(256)\n",
    "    if not chunk:\n",
    "        break\n",
    "    destination.write(chunk)\n",
    "    \n",
    "source.close()\n",
    "destination.close()"
   ]
  },
  {
   "cell_type": "markdown",
   "id": "68fce312",
   "metadata": {},
   "source": [
    "### Moving the cursor\n",
    "\n",
    "- seek(n) : takes the file read handle to the nth byte from the beginning."
   ]
  },
  {
   "cell_type": "code",
   "execution_count": 48,
   "id": "f77a5a94",
   "metadata": {},
   "outputs": [],
   "source": [
    "file = open(\"sample3.txt\", \"r+\")"
   ]
  },
  {
   "cell_type": "code",
   "execution_count": 49,
   "id": "1fd8440f",
   "metadata": {},
   "outputs": [
    {
     "data": {
      "text/plain": [
       "'this is a line\\n'"
      ]
     },
     "execution_count": 49,
     "metadata": {},
     "output_type": "execute_result"
    }
   ],
   "source": [
    "file.read(15)"
   ]
  },
  {
   "cell_type": "code",
   "execution_count": 50,
   "id": "2fc91e98",
   "metadata": {},
   "outputs": [
    {
     "data": {
      "text/plain": [
       "'this is some random second line\\nthird line?\\n'"
      ]
     },
     "execution_count": 50,
     "metadata": {},
     "output_type": "execute_result"
    }
   ],
   "source": [
    "file.read()"
   ]
  },
  {
   "cell_type": "code",
   "execution_count": 51,
   "id": "9947de98",
   "metadata": {},
   "outputs": [
    {
     "data": {
      "text/plain": [
       "0"
      ]
     },
     "execution_count": 51,
     "metadata": {},
     "output_type": "execute_result"
    }
   ],
   "source": [
    "file.seek(0)"
   ]
  },
  {
   "cell_type": "code",
   "execution_count": 52,
   "id": "4e152a73",
   "metadata": {},
   "outputs": [
    {
     "data": {
      "text/plain": [
       "'this is a line\\nthis is some random second line\\nthird line?\\n'"
      ]
     },
     "execution_count": 52,
     "metadata": {},
     "output_type": "execute_result"
    }
   ],
   "source": [
    "file.read()"
   ]
  },
  {
   "cell_type": "code",
   "execution_count": 53,
   "id": "07ae4f53",
   "metadata": {},
   "outputs": [
    {
     "data": {
      "text/plain": [
       "5"
      ]
     },
     "execution_count": 53,
     "metadata": {},
     "output_type": "execute_result"
    }
   ],
   "source": [
    "file.seek(5)"
   ]
  },
  {
   "cell_type": "code",
   "execution_count": 54,
   "id": "944c2a1b",
   "metadata": {
    "scrolled": true
   },
   "outputs": [
    {
     "data": {
      "text/plain": [
       "'is a line\\nthis is some random second line\\nthird line?\\n'"
      ]
     },
     "execution_count": 54,
     "metadata": {},
     "output_type": "execute_result"
    }
   ],
   "source": [
    "file.read()"
   ]
  },
  {
   "cell_type": "code",
   "execution_count": 55,
   "id": "3e9e22f4",
   "metadata": {},
   "outputs": [],
   "source": [
    "file.close()"
   ]
  },
  {
   "cell_type": "markdown",
   "id": "37a4180b",
   "metadata": {},
   "source": [
    "### Smarter way of opening files...\n",
    "\n",
    "With the \"with\" statement, you get better syntax and exceptions handling. \n",
    "\n",
    "\"The with statement simplifies exception handling by encapsulating common\n",
    "preparation and cleanup tasks.\"\n",
    "\n",
    "In addition, it will automatically close the file. The with statement provides\n",
    "a way for ensuring that a clean-up is always used.\n"
   ]
  },
  {
   "cell_type": "code",
   "execution_count": 58,
   "id": "c8143fee",
   "metadata": {},
   "outputs": [
    {
     "name": "stdout",
     "output_type": "stream",
     "text": [
      "this \n",
      "this is a line\n",
      "this is some random second line\n",
      "third line?\n",
      "\n"
     ]
    }
   ],
   "source": [
    "with open(\"sample3.txt\", \"r+\") as file:\n",
    "    print(file.read(5))\n",
    "    file.seek(0)\n",
    "    print(file.read())\n",
    "    \n",
    "# file.seek(5)"
   ]
  },
  {
   "cell_type": "code",
   "execution_count": null,
   "id": "f3a5a192",
   "metadata": {},
   "outputs": [],
   "source": []
  }
 ],
 "metadata": {
  "kernelspec": {
   "display_name": "Python 3 (ipykernel)",
   "language": "python",
   "name": "python3"
  },
  "language_info": {
   "codemirror_mode": {
    "name": "ipython",
    "version": 3
   },
   "file_extension": ".py",
   "mimetype": "text/x-python",
   "name": "python",
   "nbconvert_exporter": "python",
   "pygments_lexer": "ipython3",
   "version": "3.9.5"
  }
 },
 "nbformat": 4,
 "nbformat_minor": 5
}
